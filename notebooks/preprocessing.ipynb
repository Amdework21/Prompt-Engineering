{
 "cells": [
  {
   "cell_type": "code",
   "execution_count": 1,
   "metadata": {},
   "outputs": [],
   "source": [
    "import pandas as pd\n",
    "import seaborn as sns\n",
    "import matplotlib.pyplot as plt\n",
    "import numpy as np\n",
    "import re\n",
    "import warnings\n",
    "\n",
    "from data_describe.text.text_preprocessing import *\n",
    "from sklearn.datasets import fetch_20newsgroups\n",
    "\n",
    "warnings.filterwarnings('ignore')"
   ]
  },
  {
   "cell_type": "code",
   "execution_count": 2,
   "metadata": {},
   "outputs": [],
   "source": [
    "import sys\n",
    "sys.path.append(\"../scripts/\")\n",
    "from data_cleaner import DataCleaner\n",
    "from util import Util\n",
    "from preprocessor import Processor"
   ]
  },
  {
   "cell_type": "code",
   "execution_count": 3,
   "metadata": {},
   "outputs": [
    {
     "name": "stderr",
     "output_type": "stream",
     "text": [
      "[nltk_data] Downloading package wordnet to\n",
      "[nltk_data]     C:\\Users\\natnael.masresha\\AppData\\Roaming\\nltk_data...\n",
      "[nltk_data]   Package wordnet is already up-to-date!\n",
      "[nltk_data] Downloading package stopwords to\n",
      "[nltk_data]     C:\\Users\\natnael.masresha\\AppData\\Roaming\\nltk_data...\n",
      "[nltk_data]   Package stopwords is already up-to-date!\n",
      "[nltk_data] Downloading package omw-1.4 to\n",
      "[nltk_data]     C:\\Users\\natnael.masresha\\AppData\\Roaming\\nltk_data...\n",
      "[nltk_data]   Package omw-1.4 is already up-to-date!\n",
      "[nltk_data] Downloading package wordnet to\n",
      "[nltk_data]     C:\\Users\\natnael.masresha\\AppData\\Roaming\\nltk_data...\n",
      "[nltk_data]   Package wordnet is already up-to-date!\n",
      "[nltk_data] Downloading package stopwords to\n",
      "[nltk_data]     C:\\Users\\natnael.masresha\\AppData\\Roaming\\nltk_data...\n",
      "[nltk_data]   Package stopwords is already up-to-date!\n",
      "[nltk_data] Downloading package omw-1.4 to\n",
      "[nltk_data]     C:\\Users\\natnael.masresha\\AppData\\Roaming\\nltk_data...\n",
      "[nltk_data]   Package omw-1.4 is already up-to-date!\n"
     ]
    }
   ],
   "source": [
    "util = Util()\n",
    "cleaner = DataCleaner()\n",
    "processor = Processor()"
   ]
  },
  {
   "cell_type": "code",
   "execution_count": 4,
   "metadata": {},
   "outputs": [
    {
     "name": "stdout",
     "output_type": "stream",
     "text": [
      "Go to the following link in your browser:\n",
      "\n",
      "    https://accounts.google.com/o/oauth2/auth?client_id=710796635688-iivsgbgsb6uv1fap6635dhvuei09o66c.apps.googleusercontent.com&redirect_uri=urn%3Aietf%3Awg%3Aoauth%3A2.0%3Aoob&scope=https%3A%2F%2Fwww.googleapis.com%2Fauth%2Fdrive+https%3A%2F%2Fwww.googleapis.com%2Fauth%2Fdrive.appdata&access_type=offline&response_type=code&approval_prompt=force\n",
      "\n",
      "Authentication successful.\n"
     ]
    }
   ],
   "source": [
    "repo=\"https://github.com/Nathnael12/prompt-engineering.git\"\n",
    "news_df=util.read_from_dvc(\"data/news.csv\",repo,\"news-v0\",low_memory=False)\n",
    "news_df=news_df.sample(frac=1)\n",
    "\n",
    "# cleaned_df=util.read_from_file('../data/news.csv')"
   ]
  },
  {
   "cell_type": "code",
   "execution_count": 5,
   "metadata": {},
   "outputs": [],
   "source": [
    "train_news=news_df.head(8)\n",
    "test_news=news_df.tail(2)"
   ]
  },
  {
   "cell_type": "code",
   "execution_count": 6,
   "metadata": {},
   "outputs": [],
   "source": [
    "full_processed_df=processor.prepare_text(train_news.copy())\n",
    "description_processed=processor.prepare_text(train_news.copy(),columns=[\"Description\"])[[\"Description\",\"Analyst_Average_Score\"]]\n",
    "title_processed=processor.prepare_text(train_news.copy(),columns=[\"Title\"])[[\"Title\",\"Analyst_Average_Score\"]]\n",
    "body_processed=processor.prepare_text(train_news.copy(),columns=[\"Body\"])[[\"Body\",\"Analyst_Average_Score\"]]\n",
    "unprocessed=train_news\n",
    "\n",
    "processed_test=processor.prepare_text(test_news)"
   ]
  },
  {
   "cell_type": "code",
   "execution_count": 7,
   "metadata": {},
   "outputs": [],
   "source": [
    "frames = [full_processed_df, description_processed, title_processed, body_processed, unprocessed]\n",
    "\n",
    "full_promp_trainer = pd.concat(frames)\n"
   ]
  },
  {
   "cell_type": "code",
   "execution_count": 8,
   "metadata": {},
   "outputs": [],
   "source": [
    "full_promp_trainer=full_promp_trainer.reset_index().drop(['index'],axis=1)"
   ]
  },
  {
   "cell_type": "code",
   "execution_count": 9,
   "metadata": {},
   "outputs": [
    {
     "data": {
      "text/html": [
       "<div>\n",
       "<style scoped>\n",
       "    .dataframe tbody tr th:only-of-type {\n",
       "        vertical-align: middle;\n",
       "    }\n",
       "\n",
       "    .dataframe tbody tr th {\n",
       "        vertical-align: top;\n",
       "    }\n",
       "\n",
       "    .dataframe thead th {\n",
       "        text-align: right;\n",
       "    }\n",
       "</style>\n",
       "<table border=\"1\" class=\"dataframe\">\n",
       "  <thead>\n",
       "    <tr style=\"text-align: right;\">\n",
       "      <th></th>\n",
       "      <th>Domain</th>\n",
       "      <th>Title</th>\n",
       "      <th>Description</th>\n",
       "      <th>Body</th>\n",
       "      <th>timestamp</th>\n",
       "      <th>Analyst Average Score</th>\n",
       "    </tr>\n",
       "  </thead>\n",
       "  <tbody>\n",
       "    <tr>\n",
       "      <th>0</th>\n",
       "      <td>mype za</td>\n",
       "      <td>male arrest murder elderli femal cofimvaba sap...</td>\n",
       "      <td>crime stamp n1 r101 road appear court sap crim...</td>\n",
       "      <td>south african polic servic offic provinci comm...</td>\n",
       "      <td>2021 09 10t00 17 46 055622</td>\n",
       "      <td>1.33</td>\n",
       "    </tr>\n",
       "    <tr>\n",
       "      <th>1</th>\n",
       "      <td>news24 com</td>\n",
       "      <td>news24 com court dismiss attempt eskom ceo pun...</td>\n",
       "      <td>lawsuit public particip design intimid johanne...</td>\n",
       "      <td>eskom ceo matshela mose koko seek r500 000 dam...</td>\n",
       "      <td>2021 09 09t19 32 46 239682</td>\n",
       "      <td>0.33</td>\n",
       "    </tr>\n",
       "    <tr>\n",
       "      <th>2</th>\n",
       "      <td>eminetra za</td>\n",
       "      <td>construct sector expect boost riot loot repair</td>\n",
       "      <td>addit spend build repair secur kwazulu natal h...</td>\n",
       "      <td>construct activ grow steadili 4 second quarter...</td>\n",
       "      <td>2021 09 09t09 02 46 320793</td>\n",
       "      <td>1.66</td>\n",
       "    </tr>\n",
       "    <tr>\n",
       "      <th>3</th>\n",
       "      <td>atp tchad info</td>\n",
       "      <td>marché résine dan le peintur et revêtement 202...</td>\n",
       "      <td>covid 19 covid covid covid 19 et post covid co...</td>\n",
       "      <td>le rapport d étude marché résine dan le peintu...</td>\n",
       "      <td>2021 09 13t07 32 46 244403</td>\n",
       "      <td>0.00</td>\n",
       "    </tr>\n",
       "    <tr>\n",
       "      <th>4</th>\n",
       "      <td>manometcurr com</td>\n",
       "      <td>global region beta caroten market research 202...</td>\n",
       "      <td>key player dsm basf alli biotech chr histor ma...</td>\n",
       "      <td>global region beta caroten market research 202...</td>\n",
       "      <td>2021 09 13t03 02 45 609228</td>\n",
       "      <td>0.00</td>\n",
       "    </tr>\n",
       "  </tbody>\n",
       "</table>\n",
       "</div>"
      ],
      "text/plain": [
       "            Domain                                              Title  \\\n",
       "0          mype za  male arrest murder elderli femal cofimvaba sap...   \n",
       "1       news24 com  news24 com court dismiss attempt eskom ceo pun...   \n",
       "2      eminetra za     construct sector expect boost riot loot repair   \n",
       "3   atp tchad info  marché résine dan le peintur et revêtement 202...   \n",
       "4  manometcurr com  global region beta caroten market research 202...   \n",
       "\n",
       "                                         Description  \\\n",
       "0  crime stamp n1 r101 road appear court sap crim...   \n",
       "1  lawsuit public particip design intimid johanne...   \n",
       "2  addit spend build repair secur kwazulu natal h...   \n",
       "3  covid 19 covid covid covid 19 et post covid co...   \n",
       "4  key player dsm basf alli biotech chr histor ma...   \n",
       "\n",
       "                                                Body  \\\n",
       "0  south african polic servic offic provinci comm...   \n",
       "1  eskom ceo matshela mose koko seek r500 000 dam...   \n",
       "2  construct activ grow steadili 4 second quarter...   \n",
       "3  le rapport d étude marché résine dan le peintu...   \n",
       "4  global region beta caroten market research 202...   \n",
       "\n",
       "                    timestamp  Analyst Average Score  \n",
       "0  2021 09 10t00 17 46 055622                   1.33  \n",
       "1  2021 09 09t19 32 46 239682                   0.33  \n",
       "2  2021 09 09t09 02 46 320793                   1.66  \n",
       "3  2021 09 13t07 32 46 244403                   0.00  \n",
       "4  2021 09 13t03 02 45 609228                   0.00  "
      ]
     },
     "execution_count": 9,
     "metadata": {},
     "output_type": "execute_result"
    }
   ],
   "source": [
    "full_promp_trainer=full_promp_trainer[['Domain','Title','Description','Body','timestamp','Analyst_Average_Score']]\n",
    "full_promp_trainer.rename(columns={\"Analyst_Average_Score\":\"Analyst Average Score\"},inplace=True)\n",
    "# full_promp_trainer=cleaner.convert_to_datetime(full_promp_trainer,['timestamp'])\n",
    "full_promp_trainer=full_promp_trainer.fillna('')\n",
    "full_promp_trainer.head()"
   ]
  },
  {
   "cell_type": "code",
   "execution_count": 10,
   "metadata": {},
   "outputs": [
    {
     "name": "stdout",
     "output_type": "stream",
     "text": [
      "tuner prepared successfuly\n"
     ]
    }
   ],
   "source": [
    "\n",
    "processor.prepare_tuner(full_promp_trainer)"
   ]
  },
  {
   "cell_type": "code",
   "execution_count": 11,
   "metadata": {},
   "outputs": [],
   "source": [
    "# uncomment these for first time use\n",
    "# full_processed_df.to_csv(\"../data/trainer_news.csv\",index=False)\n",
    "# processed_test.to_csv(\"../data/test_news.csv\",index=False)"
   ]
  }
 ],
 "metadata": {
  "kernelspec": {
   "display_name": "Python 3.10.4 64-bit",
   "language": "python",
   "name": "python3"
  },
  "language_info": {
   "codemirror_mode": {
    "name": "ipython",
    "version": 3
   },
   "file_extension": ".py",
   "mimetype": "text/x-python",
   "name": "python",
   "nbconvert_exporter": "python",
   "pygments_lexer": "ipython3",
   "version": "3.10.4"
  },
  "orig_nbformat": 4,
  "vscode": {
   "interpreter": {
    "hash": "90978d7a57357001f6d0fedca3f3848cad6c097ec2b59b9dd0200233ae8f22ca"
   }
  }
 },
 "nbformat": 4,
 "nbformat_minor": 2
}
