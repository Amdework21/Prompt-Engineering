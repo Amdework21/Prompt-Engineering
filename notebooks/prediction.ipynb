{
 "cells": [
  {
   "cell_type": "code",
   "execution_count": 1,
   "metadata": {},
   "outputs": [],
   "source": [
    "import pandas as pd\n",
    "import seaborn as sns\n",
    "import matplotlib.pyplot as plt\n",
    "import numpy as np\n",
    "import re\n",
    "import warnings\n",
    "warnings.filterwarnings('ignore')"
   ]
  },
  {
   "cell_type": "code",
   "execution_count": 2,
   "metadata": {},
   "outputs": [],
   "source": [
    "import sys\n",
    "sys.path.append(\"../scripts/\")\n",
    "from data_cleaner import DataCleaner\n",
    "from util import Util\n",
    "from pridict import Predict"
   ]
  },
  {
   "cell_type": "code",
   "execution_count": 3,
   "metadata": {},
   "outputs": [
    {
     "name": "stderr",
     "output_type": "stream",
     "text": [
      "[nltk_data] Downloading package wordnet to\n",
      "[nltk_data]     C:\\Users\\natnael.masresha\\AppData\\Roaming\\nltk_data...\n",
      "[nltk_data]   Package wordnet is already up-to-date!\n",
      "[nltk_data] Downloading package stopwords to\n",
      "[nltk_data]     C:\\Users\\natnael.masresha\\AppData\\Roaming\\nltk_data...\n",
      "[nltk_data]   Package stopwords is already up-to-date!\n",
      "[nltk_data] Downloading package omw-1.4 to\n",
      "[nltk_data]     C:\\Users\\natnael.masresha\\AppData\\Roaming\\nltk_data...\n",
      "[nltk_data]   Package omw-1.4 is already up-to-date!\n"
     ]
    }
   ],
   "source": [
    "util = Util()\n",
    "cleaner = DataCleaner()\n",
    "predictor = Predict()"
   ]
  },
  {
   "cell_type": "code",
   "execution_count": 4,
   "metadata": {},
   "outputs": [
    {
     "name": "stdout",
     "output_type": "stream",
     "text": [
      "Go to the following link in your browser:\n",
      "\n",
      "    https://accounts.google.com/o/oauth2/auth?client_id=710796635688-iivsgbgsb6uv1fap6635dhvuei09o66c.apps.googleusercontent.com&redirect_uri=urn%3Aietf%3Awg%3Aoauth%3A2.0%3Aoob&scope=https%3A%2F%2Fwww.googleapis.com%2Fauth%2Fdrive+https%3A%2F%2Fwww.googleapis.com%2Fauth%2Fdrive.appdata&access_type=offline&response_type=code&approval_prompt=force\n",
      "\n",
      "Authentication successful.\n"
     ]
    }
   ],
   "source": [
    "repo=\"https://github.com/Nathnael12/prompt-engineering.git\"\n",
    "test=util.read_from_dvc(\"data/test_news.csv\",repo,\"test-news-v2\",low_memory=False)\n",
    "train=util.read_from_dvc(\"data/trainer_news.csv\",repo,\"train-news-v2\",low_memory=False)\n",
    "\n",
    "# cleaned_df=util.read_from_file('../data/news.csv')"
   ]
  },
  {
   "cell_type": "markdown",
   "metadata": {},
   "source": [
    "### our first try structure for co:here API\n",
    "\n",
    "Task: Score news relevance\n",
    "\n",
    "Domain: {Domain}\n",
    "\n",
    "Title: {Title}\n",
    "\n",
    "Description: {\n",
    "    long text Description\n",
    "}\n",
    "\n",
    "Body: {\n",
    "    long text Body\n",
    "}\n",
    "\n",
    "Analyst_Average_Score : {Analyst_Average_Score}"
   ]
  },
  {
   "cell_type": "code",
   "execution_count": 5,
   "metadata": {},
   "outputs": [],
   "source": [
    "# all_columns=['Domain', 'Title', 'Description', 'Body', 'Link', 'timestamp','Analyst_Rank', 'Reference_Final_Score', 'Analyst_Average_Score']\n",
    "# useful_columns=['Domain', 'Title', 'Description', 'Body','Analyst_Rank','Analyst_Average_Score']\n",
    "# drop_columns=['Link','Reference_Final_Score','timestamp']\n",
    "\n",
    "# all_train=cleaned_df.head(9)[useful_columns]\n",
    "# test=cleaned_df.tail(1).drop(drop_columns,axis=1)\n",
    "\n",
    "\n",
    "# tuner=predict(all_train,test,return_value=True)"
   ]
  },
  {
   "cell_type": "code",
   "execution_count": 6,
   "metadata": {},
   "outputs": [
    {
     "data": {
      "text/html": [
       "<div>\n",
       "<style scoped>\n",
       "    .dataframe tbody tr th:only-of-type {\n",
       "        vertical-align: middle;\n",
       "    }\n",
       "\n",
       "    .dataframe tbody tr th {\n",
       "        vertical-align: top;\n",
       "    }\n",
       "\n",
       "    .dataframe thead th {\n",
       "        text-align: right;\n",
       "    }\n",
       "</style>\n",
       "<table border=\"1\" class=\"dataframe\">\n",
       "  <thead>\n",
       "    <tr style=\"text-align: right;\">\n",
       "      <th></th>\n",
       "      <th>Description</th>\n",
       "      <th>Body</th>\n",
       "      <th>Analyst Average Score</th>\n",
       "    </tr>\n",
       "  </thead>\n",
       "  <tbody>\n",
       "    <tr>\n",
       "      <th>1</th>\n",
       "      <td>stumbl interest case woman face evict home inh...</td>\n",
       "      <td>stumbl interest case woman face evict home inh...</td>\n",
       "      <td>0.0</td>\n",
       "    </tr>\n",
       "  </tbody>\n",
       "</table>\n",
       "</div>"
      ],
      "text/plain": [
       "                                         Description  \\\n",
       "1  stumbl interest case woman face evict home inh...   \n",
       "\n",
       "                                                Body  Analyst Average Score  \n",
       "1  stumbl interest case woman face evict home inh...                    0.0  "
      ]
     },
     "metadata": {},
     "output_type": "display_data"
    },
    {
     "data": {
      "text/html": [
       "<div>\n",
       "<style scoped>\n",
       "    .dataframe tbody tr th:only-of-type {\n",
       "        vertical-align: middle;\n",
       "    }\n",
       "\n",
       "    .dataframe tbody tr th {\n",
       "        vertical-align: top;\n",
       "    }\n",
       "\n",
       "    .dataframe thead th {\n",
       "        text-align: right;\n",
       "    }\n",
       "</style>\n",
       "<table border=\"1\" class=\"dataframe\">\n",
       "  <thead>\n",
       "    <tr style=\"text-align: right;\">\n",
       "      <th></th>\n",
       "      <th>Description</th>\n",
       "      <th>Body</th>\n",
       "      <th>Analyst Average Score</th>\n",
       "    </tr>\n",
       "  </thead>\n",
       "  <tbody>\n",
       "    <tr>\n",
       "      <th>0</th>\n",
       "      <td>crime stamp n1 r101 road appear court sap crim...</td>\n",
       "      <td>south african polic servic offic provinci comm...</td>\n",
       "      <td>1.33</td>\n",
       "    </tr>\n",
       "  </tbody>\n",
       "</table>\n",
       "</div>"
      ],
      "text/plain": [
       "                                         Description  \\\n",
       "0  crime stamp n1 r101 road appear court sap crim...   \n",
       "\n",
       "                                                Body  Analyst Average Score  \n",
       "0  south african polic servic offic provinci comm...                   1.33  "
      ]
     },
     "metadata": {},
     "output_type": "display_data"
    },
    {
     "name": "stderr",
     "output_type": "stream",
     "text": [
      "Warning: Your text contains a trailing whitespace, which has been trimmed to ensure high quality generations., Your text contains a trailing whitespace, which has been trimmed to ensure high quality generations.\n",
      "\n"
     ]
    },
    {
     "name": "stdout",
     "output_type": "stream",
     "text": [
      "Prediction:  1.13\n",
      "\n"
     ]
    },
    {
     "name": "stderr",
     "output_type": "stream",
     "text": [
      "Warning: Your text contains a trailing whitespace, which has been trimmed to ensure high quality generations., Your text contains a trailing whitespace, which has been trimmed to ensure high quality generations.\n",
      "\n"
     ]
    },
    {
     "name": "stdout",
     "output_type": "stream",
     "text": [
      "Prediction:  1.2\n",
      "\n"
     ]
    },
    {
     "name": "stderr",
     "output_type": "stream",
     "text": [
      "Warning: Your text contains a trailing whitespace, which has been trimmed to ensure high quality generations., Your text contains a trailing whitespace, which has been trimmed to ensure high quality generations.\n",
      "\n"
     ]
    },
    {
     "name": "stdout",
     "output_type": "stream",
     "text": [
      "Prediction:  1.33\n",
      "\n"
     ]
    }
   ],
   "source": [
    "\n",
    "all_columns=['Domain', 'Title', 'Description', 'Body', 'Link', 'timestamp','Analyst_Rank', 'Analyst_Average_Score']\n",
    "useful_columns=[ 'Description', 'Body','Analyst_Average_Score']\n",
    "drop_columns=['Title','Domain', 'Link','Reference_Final_Score','timestamp','Analyst_Rank']\n",
    "\n",
    "# unique_train=train.drop_duplicates(subset=[\"Analyst_Average_Score\"], keep='last')\n",
    "# unique_train=unique_train.sample(1)[useful_columns]\n",
    "unique_train=train.sample()[useful_columns]\n",
    "unique_test = test.drop(drop_columns,axis=1).sample()\n",
    "\n",
    "unique_train=unique_train.rename(columns={\"Analyst_Average_Score\":\"Analyst Average Score\"})\n",
    "unique_test=unique_test.rename(columns={\"Analyst_Average_Score\":\"Analyst Average Score\"})\n",
    "\n",
    "display(unique_test)\n",
    "display(unique_train)\n",
    "\n",
    "predictor.predict(unique_train,unique_test)\n",
    "predictor.predict(unique_train,unique_test,model=\"a0b276d4-adf8-453e-983f-31b8761e8521-ft\")\n",
    "prompt=predictor.predict(unique_train,unique_test, model=\"c6af2dfd-16ae-4503-9693-6e50dae3861a-ft\" )\n",
    "prompt=predictor.predict(unique_train,unique_test, model=\"acfdd84f-2b81-4ee2-92d5-22ca5ee8f4f0-ft\" )"
   ]
  },
  {
   "cell_type": "code",
   "execution_count": 7,
   "metadata": {},
   "outputs": [
    {
     "name": "stdout",
     "output_type": "stream",
     "text": [
      "Task: Generate Analyst Average Score\n",
      "\n",
      "Description: crime stamp n1 r101 road appear court sap crime report crime report robberi sap crime report 2021 09 09 14 05 02 9 septemb 2021 firearm recov suspect court sap crime report robberi sap crime report\n",
      "\n",
      "Body: south african polic servic offic provinci commission eastern cape eastern cape 42 year old male suspect arrest yesterday wednesday 8 septemb 2021 10 00 murder 80 year old femal epesikeni locat ngqwaru cofimvaba alleg morn wednesday neighbor door deceas s homestead open investig s lifeless bodi discov cover lay bed know suspect hide room question report ladi bed sleep suspect run away suspect set hous rescu cofimvaba visibl polic member arrest charg murder accord suspect motiv murder reveng suspect appear cofimvaba magistr court tomorrow 10 septemb 2021 charg relat murder join neighbourhood watch enquiri captain larian jonker 082 301 8552 twitter report crime stamp fraud corrupt eye ear sap street aim4chang port elizabethan suspect arrest allegedli commit robberi motorist place spike n1 r101 road appear court sap crime report 2021 09 09 13 07 58 10 septemb 2021 male arrest murder elderli femal cofimvaba sap crime report 2021 09 09 13 22 58 10 septemb 2021 suspect appear court busi robberi sap crime report 2021 09 09 14 05 02 9 septemb 2021 firearm recov suspect court sap crime report 2021 09 09 14 20 02 9 septemb 2021 suspect bar connect foil robberi sap crime report 2021 09 09 19 38 59 9 septemb 2021\n",
      "\n",
      "Analyst Average Score: 1.33\n",
      "\n",
      "-- --\n",
      "\n",
      "Task: Generate Analyst Average Score\n",
      "\n",
      "Description: stumbl interest case woman face evict home inherit brother 2007 turn brother busi notori intern crimin paul le roux current serv 25 year new york prison\n",
      "\n",
      "Body: stumbl interest case woman face evict home inherit brother 2007 turn brother busi notori intern crimin paul le roux current serv 25 year new york prison\n",
      "\n",
      "Analyst Average Score: \n"
     ]
    }
   ],
   "source": [
    "print(prompt)"
   ]
  }
 ],
 "metadata": {
  "kernelspec": {
   "display_name": "Python 3.10.4 64-bit",
   "language": "python",
   "name": "python3"
  },
  "language_info": {
   "codemirror_mode": {
    "name": "ipython",
    "version": 3
   },
   "file_extension": ".py",
   "mimetype": "text/x-python",
   "name": "python",
   "nbconvert_exporter": "python",
   "pygments_lexer": "ipython3",
   "version": "3.10.4"
  },
  "orig_nbformat": 4,
  "vscode": {
   "interpreter": {
    "hash": "90978d7a57357001f6d0fedca3f3848cad6c097ec2b59b9dd0200233ae8f22ca"
   }
  }
 },
 "nbformat": 4,
 "nbformat_minor": 2
}
