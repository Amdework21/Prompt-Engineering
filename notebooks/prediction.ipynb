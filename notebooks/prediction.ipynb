{
 "cells": [
  {
   "cell_type": "code",
   "execution_count": 1,
   "metadata": {},
   "outputs": [],
   "source": [
    "import pandas as pd\n",
    "import seaborn as sns\n",
    "import matplotlib.pyplot as plt\n",
    "import numpy as np\n",
    "import re\n",
    "import warnings\n",
    "warnings.simplefilter('ignore')"
   ]
  },
  {
   "cell_type": "code",
   "execution_count": 2,
   "metadata": {},
   "outputs": [],
   "source": [
    "import sys\n",
    "sys.path.append(\"../scripts/\")\n",
    "from data_cleaner import DataCleaner\n",
    "from util import Util\n",
    "from pridict import Predict"
   ]
  },
  {
   "cell_type": "code",
   "execution_count": 3,
   "metadata": {},
   "outputs": [
    {
     "name": "stderr",
     "output_type": "stream",
     "text": [
      "[nltk_data] Downloading package wordnet to\n",
      "[nltk_data]     C:\\Users\\Natnael\\AppData\\Roaming\\nltk_data...\n",
      "[nltk_data]   Package wordnet is already up-to-date!\n",
      "[nltk_data] Downloading package stopwords to\n",
      "[nltk_data]     C:\\Users\\Natnael\\AppData\\Roaming\\nltk_data...\n",
      "[nltk_data]   Package stopwords is already up-to-date!\n",
      "[nltk_data] Downloading package omw-1.4 to\n",
      "[nltk_data]     C:\\Users\\Natnael\\AppData\\Roaming\\nltk_data...\n",
      "[nltk_data]   Package omw-1.4 is already up-to-date!\n"
     ]
    }
   ],
   "source": [
    "util = Util()\n",
    "cleaner = DataCleaner()\n",
    "predictor = Predict()"
   ]
  },
  {
   "cell_type": "code",
   "execution_count": 4,
   "metadata": {},
   "outputs": [],
   "source": [
    "repo=\"https://github.com/Nathnael12/prompt-engineering.git\"\n",
    "test=util.read_from_dvc(\"data/test_news.csv\",repo,\"test-news-v3\",low_memory=False)\n",
    "train=util.read_from_dvc(\"data/trainer_news.csv\",repo,\"train-news-v3\",low_memory=False)\n",
    "\n",
    "# cleaned_df=util.read_from_file('../data/news.csv')"
   ]
  },
  {
   "cell_type": "markdown",
   "metadata": {},
   "source": [
    "### our first try structure for co:here API\n",
    "\n",
    "Task: Score news relevance\n",
    "\n",
    "Domain: {Domain}\n",
    "\n",
    "Title: {Title}\n",
    "\n",
    "Description: {\n",
    "    long text Description\n",
    "}\n",
    "\n",
    "Body: {\n",
    "    long text Body\n",
    "}\n",
    "\n",
    "Analyst_Average_Score : {Analyst_Average_Score}"
   ]
  },
  {
   "cell_type": "code",
   "execution_count": 5,
   "metadata": {},
   "outputs": [],
   "source": [
    "# all_columns=['Domain', 'Title', 'Description', 'Body', 'Link', 'timestamp','Analyst_Rank', 'Reference_Final_Score', 'Analyst_Average_Score']\n",
    "# useful_columns=['Domain', 'Title', 'Description', 'Body','Analyst_Rank','Analyst_Average_Score']\n",
    "# drop_columns=['Link','Reference_Final_Score','timestamp']\n",
    "\n",
    "# all_train=cleaned_df.head(9)[useful_columns]\n",
    "# test=cleaned_df.tail(1).drop(drop_columns,axis=1)\n",
    "\n",
    "\n",
    "# tuner=predict(all_train,test,return_value=True)"
   ]
  },
  {
   "cell_type": "code",
   "execution_count": 8,
   "metadata": {},
   "outputs": [],
   "source": [
    "\n",
    "# all_columns=['Domain', 'Title', 'Description', 'Body', 'Link', 'timestamp','Analyst_Rank', 'Analyst_Average_Score']\n",
    "# useful_columns=[ 'Description', 'Body','Analyst_Average_Score']\n",
    "# drop_columns=['Title','Domain', 'Link','Reference_Final_Score','timestamp','Analyst_Rank']\n",
    "\n",
    "# unique_train=train.drop_duplicates(subset=[\"Analyst_Average_Score\"], keep='last')\n",
    "# unique_train=unique_train.sample(1)[useful_columns]\n",
    "# unique_train=train.sample()[useful_columns]\n",
    "# unique_test = test.drop(drop_columns,axis=1).sample()\n",
    "\n",
    "# unique_train=unique_train.rename(columns={\"Analyst_Average_Score\":\"Analyst Average Score\"})\n",
    "# unique_test=unique_test.rename(columns={\"Analyst_Average_Score\":\"Analyst Average Score\"})\n",
    "\n",
    "# display(unique_test)\n",
    "# display(unique_train)\n",
    "\n",
    "# unique_train_e=pd.DataFrame()\n",
    "\n"
   ]
  },
  {
   "cell_type": "code",
   "execution_count": 20,
   "metadata": {},
   "outputs": [
    {
     "name": "stdout",
     "output_type": "stream",
     "text": [
      "Prediction:  0.33\n",
      "\n",
      "Prediction:  0.33\n",
      "\n",
      "Prediction:  0.0\n",
      "\n",
      "Prediction:  0.33\n",
      "\n",
      "Correct Value: 0.0\n"
     ]
    }
   ],
   "source": [
    "unique_test=test.sample()\n",
    "unique_train=train.sample()\n",
    "\n",
    "predictor.predict(unique_train,unique_test)\n",
    "predictor.predict(unique_train,unique_test,model=\"a0b276d4-adf8-453e-983f-31b8761e8521-ft\")\n",
    "prompt=predictor.predict(unique_train,unique_test, model=\"c6af2dfd-16ae-4503-9693-6e50dae3861a-ft\" )\n",
    "prompt=predictor.predict(unique_train,unique_test, model=\"acfdd84f-2b81-4ee2-92d5-22ca5ee8f4f0-ft\" )\n",
    "\n",
    "print(f\"Correct Value: {unique_test.iloc[0,-1]}\")"
   ]
  },
  {
   "cell_type": "code",
   "execution_count": 21,
   "metadata": {},
   "outputs": [
    {
     "name": "stdout",
     "output_type": "stream",
     "text": [
      "Task: Generate Analyst Average Score\n",
      "\n",
      "Description: woman, eskom, tweet, news24, dismiss, punish, court, com, ceo, attempt, post, high, violenc, citi, articl, court, wet, press, lawsuit, design, evalu, johannesburg, adel, agre, 2020, particip, allegedli, octob, incit, judg, act, intimid, public, sphithiphithi, post, order, electr, high, violenc, alleg, select, mean, govern, forc, litig, pain, defenc, ceo, go, press, file, subject, place, seek, refus, conced, exorbit, wrong, realis, initi, school, investig, care, disput, forward, adel, deliv, affidavit, put, ipp, possess, negoti, uncondit, klap, particip, demand, defamatori, purpos, adriaan, apologis, redress, set, interdict, fact, fiduciari, afford, point, judg, respond, equal, success, reopen, fold, proceed, candi, intimid, impun, complimentari, shortli, oblig, sign, r2, scale, air, send, slapp, publish, make, submit, mose, unrestsa, learn, find, rupert, eskom, wet, ill, note, abus, evalu, client, koko, 2017, tanton, duti, time, know, improp, account, agre, ignor, big, buy, statement, 42c, apolog, twitter, achiev, allegedli, launch, unmask, s, desist, incit, unit, reput, year, materi, attorney, roll, public, unwil, great, februari, citi, power, look, pre, have, suit, 13, outcom, articl, vexati, true, woman, special, numer, basson, read, lawsuit, matshela, legal, interview, johannesburg, fight, contract, pend, leav, gauteng, substanti, want, oliv, defam, say, paper, need, longer, branch, prevent, target, applic, 27, name, advoc, deter, attempt, citizen, octob, earli, argu, tweet, matter, lawyer, act, includ, wish, r500, punish, oppos, state, 000, retract, comment, document, demonstr, silenc, umbrag, belatedli, steadfast, motiv, barbara, suggest, provid, take, recov, reliev, follow, 72, restrict, propos, extend, intent, justifi, court, punit, motion, conduct, princip, behaviour, action, damag, design, 2021, restor, rais, fair, januari, award, cost, dismiss, 2020, claim, old, radio, pay, gener, vilifi, close, letter, remov, breach, month, come, appal, strateg, manner, independ, sphithiphithi\n",
      "\n",
      "Analyst_Average_Score: 0.33\n",
      "\n",
      "-- --\n",
      "\n",
      "Task: Generate Analyst Average Score\n",
      "\n",
      "Description: tendanc, meilleur, avec, marché, 2021, 19, prix, et, estim, 2026, la, de, résine, ici, d, analys, prévision, porté, l, revêtement, taill, pay, peintur, futur, covid, le, dan, revenu, donné, post, 3, aprè, industri, sur, avant, 2, impact, marché, global, 19, et, de, évaluat, 1, basf, l, risqu, scénario, au, 4, lié, covid, du, plastic, post, anné, ont, utilisé, compréhens, obtenez, connu, une, russi, box, améliorez, aperçu, particip, group, sociaux, arkema, copi, consomm, dispon, ajoutera, uniqu, relev, plan, fournir, atul, renseignez, impact, vo, suiss, meet, conseil, motherboard, l, revêtement, plu, spécifiqu, été, ca, amériqu, achetez, croissanc, évaluat, turqui, comprend, pour, question, concurrentiel, scénario, pérou, le, du, clé, domain, achat, complèt, propos, deliveri, occidental, défi, profil, sou, pestel, orient, périmètr, analys, affect, pay, resinlab, raison, nationaux, pacifiqu, augment, complet, asi, commerci, leur, chun, situat, marché, mise, détaillé, par, auxquel, 2680, itali, en, sinopec, essentiel, vou, allemagn, lié, covid, entièr, report, est, ce, professionnel, précise, autr, shield, offr, estim, import, organis, diver, achet, mono, tunnel, olin, important, argentin, stratégi, futur, flashlight, échéant, périod, étudié, ya, robnor, industri, pre, product, triethylen, partagez, helio, contient, divers, donn, prix, sud, boi, fight, 1, nouveaux, suivant, produit, final, moyen, donné, tou, état, ind, domin, licenc, avant, approfondi, spécial, également, eighti, nan, mitsui, canada, prévision, rel, au, matièr, transplant, non, évolut, assur, nord, outr, forc, évalué, servic, rbc, cett, étude, coré, meat, exempl, de, guid, lancement, comprendr, recherch, porté, 6, dsm, peintur, technologiqu, cytec, 4, épidémi, ressourc, glycol, evonik, facteur, aprè, sur, brésil, adopté, aditya, ba, recip, avi, régional, tabl, méthodologi, uni, analysé, aval, colombi, hexion, avancé, risqu, paysag, onlin, mincer, franc, référenc, dynamiqu, allnex, établi, mondial, lead, environnementaux, secondair, entrant, ladder, sont, vehicl, zone, japon, 3m, compos, emballag, présent, comment, uvr, avec, recommand, imag, chang, europ, gcc, type, responsabilité, économi, 19, 2026, objectif, résine, adhes, hla, ou, fait, principaux, synthétiqu, segment, thousand, à, largement, 5, premier, acteur, fort, dow, définit, fournit, complémentair, lubrizol, fabric, d, compar, face, taill, confronté, afriqu, créer, avantag, mondiaux, se, continué, aerial, préparer, lumièr, actuel, 2, detector, primair, politiqu, birla, screen, juridiqu, naturel, chine, corpor, architectur, dan, mexiqu, grinder, considèr, foi, terrain, 3, sourc, solvay, différent, global, rapport, la, opportunité, aux, basf, butyl, chemic, économiqu, mitsubishi, activité, généraux, automobil, tendanc, chili, huntsman, espagn, il, portefeuil, couvert, 2021, et, vogu, soigneus, usd, préci, utilisateur, ether, fournisseur, gagner, technolog, royaum, batteri, array\n",
      "\n",
      "Analyst_Average_Score: \n"
     ]
    }
   ],
   "source": [
    "print(prompt)"
   ]
  }
 ],
 "metadata": {
  "kernelspec": {
   "display_name": "Python 3.10.5 64-bit",
   "language": "python",
   "name": "python3"
  },
  "language_info": {
   "codemirror_mode": {
    "name": "ipython",
    "version": 3
   },
   "file_extension": ".py",
   "mimetype": "text/x-python",
   "name": "python",
   "nbconvert_exporter": "python",
   "pygments_lexer": "ipython3",
   "version": "3.10.5"
  },
  "orig_nbformat": 4,
  "vscode": {
   "interpreter": {
    "hash": "b1991c03751bb1ed07063b349673f109e299af7bd2e157024b7d7177e34b5cc3"
   }
  }
 },
 "nbformat": 4,
 "nbformat_minor": 2
}
